{
 "cells": [
  {
   "cell_type": "markdown",
   "metadata": {},
   "source": [
    "## Simple machine learning vocabulary (More tomorrow)\n",
    "\n",
    "* **Sample**: An object that your machine learning algorithm is trying to understand. Also known as an **example**.\n",
    "* **Feature**: An entity that describes your sample. \n",
    "    * The input to most machine learning algorithm is a **feature vector**, which is encoded numeric data about your sample\n",
    "* **Classification**: Describes a task where you have to predict labels, categories, etc. from a finite set of possibilities\n",
    "    * Examples: Spam detection, image identification, image annotation (if your annotation set is finite), sentiment analysis\n",
    "    * Classification is done in the **supervised setting**, where we train an algorithm using an already labeled dataset. \n",
    "* A **dataset** for classification is usually in the form of a matrix $X$ of samples (row wise) and another vector of labels, $y$"
   ]
  },
  {
   "cell_type": "markdown",
   "metadata": {},
   "source": [
    "## Example dataset of feature vectors\n",
    "\n",
    "![](images/features.png)"
   ]
  },
  {
   "cell_type": "markdown",
   "metadata": {},
   "source": [
    "Example class labels\n",
    "\n",
    "![](images/liver-classes.png)"
   ]
  },
  {
   "cell_type": "markdown",
   "metadata": {},
   "source": [
    "## UCI Liver Disorders dataset\n",
    "\n",
    "* Predict whether a patient has a liver disorder based\n",
    "* Dataset information [here](https://archive.ics.uci.edu/ml/machine-learning-databases/liver-disorders/bupa.names)"
   ]
  },
  {
   "cell_type": "code",
   "execution_count": null,
   "metadata": {
    "collapsed": false
   },
   "outputs": [],
   "source": [
    "import pandas as pd\n",
    "\n",
    "prefix = \"../datasets/\"\n",
    "\n",
    "columns=[\"mean corpuscular volume\", \"protein1\", \"protein2\", \n",
    "         \"protein3\", \"protein4\", \"number of drinks\", \"Has Liver Disorder\"]\n",
    "df = pd.read_csv(prefix + \"liver.data\", header=None, names=columns)"
   ]
  },
  {
   "cell_type": "code",
   "execution_count": null,
   "metadata": {
    "collapsed": false
   },
   "outputs": [],
   "source": [
    "X = df.drop(\"Has Liver Disorder\", axis=1)\n",
    "y = df[\"Has Liver Disorder\"]"
   ]
  },
  {
   "cell_type": "markdown",
   "metadata": {},
   "source": [
    "## Protocol for (simple) evaluation of supervised models\n",
    "\n",
    "(The simplicity of this procedure is scorned upon. But we'll talk about robust evaluation of models tomorrow.)\n",
    "\n",
    "1. Split your dataset into a **training** and **testing** dataset\n",
    "    * **Training** set represents data that has already been observed and labeled.\n",
    "    * **Testing** set represents data that has not been labeled yet, which we seek to label. (But, in this experimental setting, we have these labels for evaluation.)\n",
    "![](images/train_test_split.svg)        \n",
    "2. Train your model* on your training set\n",
    "3. Evaluate your model on your testing set"
   ]
  },
  {
   "cell_type": "markdown",
   "metadata": {},
   "source": [
    "![](images/supervised_workflow.svg)"
   ]
  },
  {
   "cell_type": "markdown",
   "metadata": {},
   "source": [
    "## Common classification models\n",
    "* [Logistic Regression](https://en.wikipedia.org/wiki/Logistic_regression) ([Cox](https://en.wikipedia.org/wiki/David_Cox_(statistician), 1958)\n",
    "* [Support Vector Machine](https://en.wikipedia.org/wiki/Support_vector_machine) ([Vapnik](https://en.wikipedia.org/wiki/Vladimir_Vapnik), Chervonenkis, 1963)\n",
    "* [Neural Networks](https://en.wikipedia.org/wiki/Artificial_neural_network) (Backpropagation algorithm by Remelhart, [Hinton](https://en.wikipedia.org/wiki/Geoffrey_Hinton), Williams, 1986)\n",
    "* [Random Forests](https://en.wikipedia.org/wiki/Random_forest) (Breiman, 2001) and Decision Trees ([ID3 algorithm](https://en.wikipedia.org/wiki/ID3_algorithm) in 1986 by [Quinlan](https://en.wikipedia.org/wiki/Ross_Quinlan))\n",
    "* [Naive Bayes](https://en.wikipedia.org/wiki/Naive_Bayes_classifier)?..."
   ]
  },
  {
   "cell_type": "code",
   "execution_count": null,
   "metadata": {
    "collapsed": true
   },
   "outputs": [],
   "source": [
    "from sklearn.linear_model import LogisticRegression\n",
    "from sklearn.cross_validation import train_test_split\n",
    "\n",
    "# Split the dataset\n",
    "X_train, X_test, y_train, y_test = train_test_split(X, y, random_state=0)\n",
    "\n",
    "# Train the model - a Logistic Regression\n",
    "clf = LogisticRegression()\n",
    "clf.fit(X_train, y_train)\n",
    "\n",
    "# Use the model to predict on unseen data\n",
    "predictions = clf.predict(X_test)"
   ]
  },
  {
   "cell_type": "code",
   "execution_count": null,
   "metadata": {
    "collapsed": false
   },
   "outputs": [],
   "source": [
    "# Finally, check how you did on this dataset\n",
    "from sklearn.metrics import accuracy_score\n",
    "\n",
    "print \"Score on liver classification: \", accuracy_score(y_test, predictions)"
   ]
  },
  {
   "cell_type": "code",
   "execution_count": null,
   "metadata": {
    "collapsed": true
   },
   "outputs": [],
   "source": []
  }
 ],
 "metadata": {
  "kernelspec": {
   "display_name": "Python 2",
   "language": "python",
   "name": "python2"
  },
  "language_info": {
   "codemirror_mode": {
    "name": "ipython",
    "version": 2
   },
   "file_extension": ".py",
   "mimetype": "text/x-python",
   "name": "python",
   "nbconvert_exporter": "python",
   "pygments_lexer": "ipython2",
   "version": "2.7.9"
  }
 },
 "nbformat": 4,
 "nbformat_minor": 0
}
