{
 "cells": [
  {
   "cell_type": "markdown",
   "metadata": {},
   "source": [
    "# Applied Machine Learning Tutorial, Part 2\n",
    "\n",
    "In this tutorial, we'll focus more on concepts rather than explicit data modeling"
   ]
  },
  {
   "cell_type": "markdown",
   "metadata": {},
   "source": [
    "## Uhh... why machine learning?\n",
    "\n",
    "![](images/bigstacks.png)"
   ]
  },
  {
   "cell_type": "markdown",
   "metadata": {},
   "source": [
    "## Recap on vocabulary"
   ]
  },
  {
   "cell_type": "markdown",
   "metadata": {},
   "source": [
    "## Simple machine learning vocabulary (More tomorrow)\n",
    "\n",
    "* **Sample**: An object that your machine learning algorithm is trying to understand. Also known as an **example**.\n",
    "* **Feature**: An entity that describes your sample. Also known as a variable or attribute.\n",
    "    * The input to most machine learning algorithm is a **feature vector**, which is encoded numeric data about your sample\n",
    "* **Classification**: Describes a task where you have to predict labels, categories, etc. from a finite set of possibilities\n",
    "    * Examples: Spam detection, image identification, image annotation (if your annotation set is finite), sentiment analysis\n",
    "    * Classification is done in the **supervised setting**, where we train an algorithm using an already labeled dataset. \n",
    "* A **dataset** for classification is usually in the form of a matrix $X$ of samples (row wise) and another vector of labels, $y$"
   ]
  },
  {
   "cell_type": "markdown",
   "metadata": {},
   "source": [
    "![](../applied_ml_1/images/features.png)"
   ]
  },
  {
   "cell_type": "markdown",
   "metadata": {},
   "source": [
    "Example class labels\n",
    "\n",
    "![](../applied_ml_1/images/liver-classes.png)"
   ]
  }
 ],
 "metadata": {
  "kernelspec": {
   "display_name": "Python 2",
   "language": "python",
   "name": "python2"
  },
  "language_info": {
   "codemirror_mode": {
    "name": "ipython",
    "version": 2
   },
   "file_extension": ".py",
   "mimetype": "text/x-python",
   "name": "python",
   "nbconvert_exporter": "python",
   "pygments_lexer": "ipython2",
   "version": "2.7.9"
  }
 },
 "nbformat": 4,
 "nbformat_minor": 0
}
