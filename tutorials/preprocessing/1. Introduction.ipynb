{
 "cells": [
  {
   "cell_type": "markdown",
   "metadata": {},
   "source": [
    "# Introduction\n",
    "\n",
    "A crash course on data preprocessing using Pandas and Scikit-Learn.\n",
    "\n",
    "For more information about Jupyter notebooks, see [here](\"http://jupyter-notebook-beginner-guide.readthedocs.org/en/latest/what_is_jupyter.html\")."
   ]
  },
  {
   "cell_type": "markdown",
   "metadata": {},
   "source": [
    "## More resources\n",
    "\n",
    "* [Kaggle Tutorial for python](https://www.kaggle.com/c/titanic/details/getting-started-with-python-ii) (highly recommended)\n",
    "* [Safari Online](https://www.safaribooksonline.com/library/view/python-for-data/9781449323592/ch04.html)"
   ]
  },
  {
   "cell_type": "markdown",
   "metadata": {},
   "source": [
    "## Why Pandas?\n",
    "\n",
    "A quick demo... (Make sure you've ran \n",
    "```\n",
    "$ python fetch_uci.py\n",
    "```\n",
    "in `ADSA/tutorial/datasets` first.)"
   ]
  },
  {
   "cell_type": "markdown",
   "metadata": {},
   "source": [
    "## Demo with UCI Breast Cancer Dataset (breast.data)\n",
    "\n",
    "* Easy dataset to start off with\n",
    "* Dataset contains all continuous variables, except one ID column, and one label (M, B) column\n",
    "    * The continous variables are just statistics collected from a tumor's biopsy\n",
    "    * More information can be found [here](https://archive.ics.uci.edu/ml/machine-learning-databases/breast-cancer-wisconsin/wdbc.names)\n",
    "* Goal of the dataset is to classify whether a tumor is maligant (M) or benigh (B)"
   ]
  },
  {
   "cell_type": "code",
   "execution_count": null,
   "metadata": {
    "collapsed": true
   },
   "outputs": [],
   "source": [
    "import numpy as np\n",
    "\n",
    "# Load in data using numpy\n",
    "prefix = \"../datasets/\"\n",
    "data = np.loadtxt(prefix + \"breast.data\", delimiter=\",\")"
   ]
  },
  {
   "cell_type": "code",
   "execution_count": null,
   "metadata": {
    "collapsed": false
   },
   "outputs": [],
   "source": [
    "data = np.loadtxt(prefix + \"breast.data\", delimiter=\",\", dtype='O')\n",
    "data"
   ]
  },
  {
   "cell_type": "markdown",
   "metadata": {},
   "source": [
    "## What's happening here?\n",
    "\n",
    "Good things about Numpy:\n",
    "* Vectorization - compiled code runs faster than interpreted code\n",
    "* Syntax is intuitive (for the most part)\n",
    "\n",
    "Limitations of Numpy:\n",
    "* Can't handle multiple datatypes in an array\n",
    "    * Existing solutions with numpy often forgos the speed boosts the library gives\n",
    "* Limited support for anything regarding \"structured data\" (data in SQL tables)\n",
    "    "
   ]
  },
  {
   "cell_type": "markdown",
   "metadata": {},
   "source": [
    "## Why Pandas? (Part II)\n",
    "\n",
    "* Dataframes allow for multiple datatypes, like SQL tables\n",
    "    * Idea was taken from R\n",
    "* Rows (the \"index\") can be indexed by keys (ex: strings), columns can be indexed by keys\n",
    "    * Similar to SQL table (column manipulation, at least)\n",
    "    * Not very conventional for numpy rows and columns to be indexed by keys (but can be done)\n",
    "* Supports vectorization (We'll talk about this later)"
   ]
  },
  {
   "cell_type": "code",
   "execution_count": null,
   "metadata": {
    "collapsed": true
   },
   "outputs": [],
   "source": [
    "import pandas as pd\n",
    "\n",
    "df = pd.read_csv(prefix + \"breast.data\", sep=\",\")"
   ]
  },
  {
   "cell_type": "code",
   "execution_count": null,
   "metadata": {
    "collapsed": false
   },
   "outputs": [],
   "source": [
    "df.head()"
   ]
  },
  {
   "cell_type": "code",
   "execution_count": null,
   "metadata": {
    "collapsed": true
   },
   "outputs": [],
   "source": [
    "# Assumed the file had a header, use \"header=None\" to disable this\n",
    "df = pd.read_csv(prefix + \"breast.data\", sep=\",\", header=None)"
   ]
  },
  {
   "cell_type": "code",
   "execution_count": null,
   "metadata": {
    "collapsed": false
   },
   "outputs": [],
   "source": [
    "df.head()"
   ]
  },
  {
   "cell_type": "code",
   "execution_count": null,
   "metadata": {
    "collapsed": true
   },
   "outputs": [],
   "source": [
    "# I'd like to rename the columns, for readability\n",
    "# R's syntax for renaming columns is weird: \n",
    "#     http://www.cookbook-r.com/Manipulating_data/Renaming_columns_in_a_data_frame/\n",
    "df.rename(columns={0: \"id\", 1: \"Tumor Status\"}, inplace=True)"
   ]
  },
  {
   "cell_type": "code",
   "execution_count": null,
   "metadata": {
    "collapsed": false
   },
   "outputs": [],
   "source": [
    "df.head()"
   ]
  },
  {
   "cell_type": "code",
   "execution_count": null,
   "metadata": {
    "collapsed": false
   },
   "outputs": [],
   "source": [
    "# Drop the ids of the samples\n",
    "# \"axis = 1\" means that \"id\" exists as a column, not a row\n",
    "# See this post for more information about the definition of \"axis\"\n",
    "#     http://stackoverflow.com/q/25773245/2014591\n",
    "tumors = df.drop(\"id\", axis=1)"
   ]
  },
  {
   "cell_type": "code",
   "execution_count": null,
   "metadata": {
    "collapsed": false
   },
   "outputs": [],
   "source": [
    "tumors.head()"
   ]
  },
  {
   "cell_type": "code",
   "execution_count": null,
   "metadata": {
    "collapsed": true
   },
   "outputs": [],
   "source": [
    "# Let's take a look at the tumors that are malignant (M)\n",
    "# Syntax is similar to numpy.\n",
    "malignant = tumors[tumors[\"Tumor Status\"] == \"M\"]\n",
    "benigh = tumors[tumors[\"Tumor Status\"] == \"B\"]"
   ]
  },
  {
   "cell_type": "code",
   "execution_count": null,
   "metadata": {
    "collapsed": false
   },
   "outputs": [],
   "source": [
    "malignant.head()"
   ]
  },
  {
   "cell_type": "markdown",
   "metadata": {},
   "source": [
    "## Integration with Numpy\n",
    "\n",
    "You could also use Numpy arrays to index data."
   ]
  },
  {
   "cell_type": "code",
   "execution_count": null,
   "metadata": {
    "collapsed": true
   },
   "outputs": [],
   "source": [
    "# Example with shuffling an array\n",
    "perm = np.random.permutation(len(tumors))\n",
    "\n",
    "# We're going to use the \"iloc\" indexing to index here. More information\n",
    "# about indexing is here.\n",
    "#     http://pandas.pydata.org/pandas-docs/stable/indexing.html\n",
    "# Because of time constraints, I don't want to dive too deep into it.\n",
    "tumors = tumors.iloc[perm]"
   ]
  },
  {
   "cell_type": "code",
   "execution_count": null,
   "metadata": {
    "collapsed": true
   },
   "outputs": [],
   "source": [
    "# Notice the order on the index has changed\n",
    "tumors.head(20)"
   ]
  },
  {
   "cell_type": "markdown",
   "metadata": {},
   "source": [
    "## Seamless\\* integration with Scikit-Learn\n",
    "\n",
    "The Scikit-Learn project fully acknowledges that Pandas is a powerful library for data analysis. Hence, you could pass in DataFrames (and Pandas Series) into Scikit-Learn\n",
    "\n",
    "We'll talk about how to model more with Scikit-Learn tomorrow.\n",
    "\n",
    "<sub>\\* There are some functions from Scikit-Learn that I would argue do *not* neatly integrate well with Pandas dataframes. But these are mostly corner cases.</sub>"
   ]
  },
  {
   "cell_type": "code",
   "execution_count": null,
   "metadata": {
    "collapsed": false
   },
   "outputs": [],
   "source": [
    "X = tumors.drop(\"Tumor Status\", axis=1)\n",
    "y = tumors[\"Tumor Status\"]\n",
    "\n",
    "from sklearn.svm import SVC  # Support vector machine that performs classification\n",
    "from sklearn.metrics import accuracy_score\n",
    "from sklearn.cross_validation import train_test_split\n",
    "\n",
    "X_train, X_test, y_train, y_test = train_test_split(X, y)\n",
    "predictions = SVC().fit(X_train, y_train).predict(X_test)\n",
    "\n",
    "print \"Accuracy of SVM: \", accuracy_score(y_test, predictions)"
   ]
  }
 ],
 "metadata": {
  "kernelspec": {
   "display_name": "Python 2",
   "language": "python",
   "name": "python2"
  },
  "language_info": {
   "codemirror_mode": {
    "name": "ipython",
    "version": 2
   },
   "file_extension": ".py",
   "mimetype": "text/x-python",
   "name": "python",
   "nbconvert_exporter": "python",
   "pygments_lexer": "ipython2",
   "version": "2.7.9"
  }
 },
 "nbformat": 4,
 "nbformat_minor": 0
}
